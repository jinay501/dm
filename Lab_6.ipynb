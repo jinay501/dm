{
  "cells": [
    {
      "cell_type": "code",
      "execution_count": null,
      "id": "722dd256-13cc-408e-a210-f72386907fba",
      "metadata": {
        "id": "722dd256-13cc-408e-a210-f72386907fba"
      },
      "outputs": [],
      "source": [
        "import numpy as np\n",
        "import pandas as pd\n",
        "import random"
      ]
    },
    {
      "cell_type": "code",
      "execution_count": null,
      "id": "6d8a0c1e-3293-4f82-bfbf-f34ecd933e87",
      "metadata": {
        "id": "6d8a0c1e-3293-4f82-bfbf-f34ecd933e87"
      },
      "outputs": [],
      "source": [
        "def sigmoid(x):\n",
        "    return 1.0/(1.0 + np.exp(-x))"
      ]
    },
    {
      "cell_type": "code",
      "source": [
        "def sigmoid_der(x):\n",
        "    return x*(1.0 - x)"
      ],
      "metadata": {
        "id": "CBjDnrSGbZ5N"
      },
      "id": "CBjDnrSGbZ5N",
      "execution_count": null,
      "outputs": []
    },
    {
      "cell_type": "code",
      "source": [
        "class NN:\n",
        "    def __init__(self, inputs):\n",
        "        self.inputs = inputs\n",
        "        self.l=len(self.inputs)\n",
        "        self.li=len(self.inputs[0])\n",
        "        \n",
        "        #generating weights\n",
        "        self.wi=np.random.random((self.li, self.l))\n",
        "        self.wh=np.random.random((self.l, 1))\n",
        "\n",
        "    def think(self, inp):\n",
        "        s1=sigmoid(np.dot(inp, self.wi))\n",
        "        s2=sigmoid(np.dot(s1, self.wh))\n",
        "        return s2\n",
        "\n",
        "    def train(self, inputs,outputs, ite):\n",
        "        for i in range(ite):\n",
        "            l0=inputs\n",
        "            l1=sigmoid(np.dot(l0, self.wi))\n",
        "            l2=sigmoid(np.dot(l1, self.wh))\n",
        "            #back propagation\n",
        "            l2_err=outputs - l2\n",
        "            l2_delta = np.multiply(l2_err, sigmoid_der(l2))\n",
        "\n",
        "            l1_err=np.dot(l2_delta, self.wh.T)\n",
        "            l1_delta=np.multiply(l1_err, sigmoid_der(l1))\n",
        "            #updating weights\n",
        "            self.wh+=np.dot(l1.T, l2_delta)\n",
        "            self.wi+=np.dot(l0.T, l1_delta)\n",
        "\n"
      ],
      "metadata": {
        "id": "9VS53gIybeY9"
      },
      "id": "9VS53gIybeY9",
      "execution_count": null,
      "outputs": []
    },
    {
      "cell_type": "code",
      "source": [
        "inputs=np.array([ [0,0], [0,1], [1,0], [1,1] ])\n",
        "outputs=np.array([ [0],[1],[1],[0] ])"
      ],
      "metadata": {
        "id": "o_CyPjPWbeZ9"
      },
      "id": "o_CyPjPWbeZ9",
      "execution_count": null,
      "outputs": []
    },
    {
      "cell_type": "code",
      "source": [
        "n=NN(inputs)\n",
        "print(\"Before training...\")\n",
        "print(n.think(inputs))\n",
        "\n",
        "n.train(inputs, outputs, 1000)\n",
        "print(\"After training...\")\n",
        "print(n.think(inputs))"
      ],
      "metadata": {
        "colab": {
          "base_uri": "https://localhost:8080/"
        },
        "id": "f9cupRPabiw0",
        "outputId": "8c7d0649-05d6-4d25-ad92-c48fd38a1103"
      },
      "id": "f9cupRPabiw0",
      "execution_count": null,
      "outputs": [
        {
          "output_type": "stream",
          "name": "stdout",
          "text": [
            "Before training...\n",
            "[[0.73320284]\n",
            " [0.78214248]\n",
            " [0.75828977]\n",
            " [0.79760459]]\n",
            "After training...\n",
            "[[0.09676801]\n",
            " [0.92405294]\n",
            " [0.92181636]\n",
            " [0.06397961]]\n"
          ]
        }
      ]
    }
  ],
  "metadata": {
    "kernelspec": {
      "display_name": "Python 3 (ipykernel)",
      "language": "python",
      "name": "python3"
    },
    "language_info": {
      "codemirror_mode": {
        "name": "ipython",
        "version": 3
      },
      "file_extension": ".py",
      "mimetype": "text/x-python",
      "name": "python",
      "nbconvert_exporter": "python",
      "pygments_lexer": "ipython3",
      "version": "3.9.7"
    },
    "colab": {
      "provenance": []
    }
  },
  "nbformat": 4,
  "nbformat_minor": 5
}