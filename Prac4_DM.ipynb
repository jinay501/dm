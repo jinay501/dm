{
  "nbformat": 4,
  "nbformat_minor": 0,
  "metadata": {
    "colab": {
      "provenance": []
    },
    "kernelspec": {
      "name": "python3",
      "display_name": "Python 3"
    },
    "language_info": {
      "name": "python"
    }
  },
  "cells": [
    {
      "cell_type": "code",
      "source": [
        "import numpy as np\n",
        "import math\n",
        "import itertools\n",
        "\n",
        "transactional_data=[['T100',['I1','I2','I5']],\n",
        "                    ['T200',['I2','I4']],\n",
        "                    ['T300',['I2','I3']],\n",
        "                    ['T400',['I1','I2','I4']],\n",
        "                    ['T500',['I1','I3']],\n",
        "                    ['T600',['I2','I3']],\n",
        "                    ['T700',['I1','I3']],\n",
        "                    ['T800',['I1','I2','I3','I5']],\n",
        "                    ['T900',['I1','I2','I3']]\n",
        "                    ]\n",
        "transactional_data\n",
        "data1=[]\n",
        "for i in transactional_data:\n",
        "  count=0\n",
        "  for j in i:\n",
        "    count+=1\n",
        "    if count==2:\n",
        "      data1.append(j)\n",
        "no_items=0\n",
        "items=[]\n",
        "for i in data1:\n",
        "  for j in i:\n",
        "    if j not in items:\n",
        "      items.append(j)\n",
        "      no_items+=1\n",
        "data=[]\n",
        "for i in range(len(transactional_data)):\n",
        "    temp=[0]*no_items\n",
        "    for j in transactional_data[i][1]:\n",
        "      k=i\n",
        "      temp[int(j[-1:])-1]=1\n",
        "    data.append(temp)\n",
        "print(data)\n",
        "data=np.array(data)"
      ],
      "metadata": {
        "colab": {
          "base_uri": "https://localhost:8080/"
        },
        "id": "wFkvBeHeeUls",
        "outputId": "c8fc7841-4670-49cc-c2db-46db67be8cd5"
      },
      "execution_count": null,
      "outputs": [
        {
          "output_type": "stream",
          "name": "stdout",
          "text": [
            "[[1, 1, 0, 0, 1], [0, 1, 0, 1, 0], [0, 1, 1, 0, 0], [1, 1, 0, 1, 0], [1, 0, 1, 0, 0], [0, 1, 1, 0, 0], [1, 0, 1, 0, 0], [1, 1, 1, 0, 1], [1, 1, 1, 0, 0]]\n"
          ]
        }
      ]
    },
    {
      "cell_type": "code",
      "execution_count": null,
      "metadata": {
        "colab": {
          "base_uri": "https://localhost:8080/"
        },
        "id": "fiBBLsDaex6_",
        "outputId": "4ae52418-731f-4895-b9a5-0edcbb852296"
      },
      "outputs": [
        {
          "output_type": "stream",
          "name": "stdout",
          "text": [
            "<class 'numpy.ndarray'>\n"
          ]
        },
        {
          "output_type": "execute_result",
          "data": {
            "text/plain": [
              "array([[1, 0, 0, 1, 1, 0, 1, 1, 1],\n",
              "       [1, 1, 1, 1, 0, 1, 0, 1, 1],\n",
              "       [0, 0, 1, 0, 1, 1, 1, 1, 1],\n",
              "       [0, 1, 0, 1, 0, 0, 0, 0, 0],\n",
              "       [1, 0, 0, 0, 0, 0, 0, 1, 0]])"
            ]
          },
          "metadata": {},
          "execution_count": 9
        }
      ],
      "source": [
        "print(type(data))\n",
        "# data=np.array([[1,1,1,0,0],[0,1,1,1,0],[0,0,0,1,1],[1,1,0,1,0],[1,1,1,0,1],[1,1,1,1,1]])\n",
        "#     i1 i2 i3 i4 i5\n",
        "# t1\t 1\t1\t 1\t0\t 0\n",
        "# t2\t 0\t1\t 1\t1\t 0\n",
        "# t3\t 0\t0\t 0\t1\t 1\n",
        "# t4\t 1\t1\t 0\t1\t 0\n",
        "# t5\t 1 \t1\t 1\t0\t 1\n",
        "# t6\t 1\t1  1\t1\t 1\n",
        "data.T"
      ]
    },
    {
      "cell_type": "code",
      "source": [
        "def create_sets(L):\n",
        "  temp=[]\n",
        "  new_L=[]\n",
        "  no_items=len(L[0][0])\n",
        "  for i in range(len(L)):\n",
        "    for j in range(len(L)):\n",
        "      if i<j:\n",
        "        temp.append([L[i][no_items-1],L[j][no_items-1]])\n",
        "    new_L.append(temp)\n",
        "    temp=[]\n",
        "  new_L=[x for x in new_L if x]\n",
        "  return new_L"
      ],
      "metadata": {
        "id": "vPRvTRkpEqDH"
      },
      "execution_count": null,
      "outputs": []
    },
    {
      "cell_type": "code",
      "source": [
        "def create_sets1(L):\n",
        "  temp=[]\n",
        "  new_L=[]\n",
        "  for i in range(len(L)):\n",
        "    for j in range(len(L)):\n",
        "      if L[i][:-1] == L[j][:-1] and  L[i] != L[j] and L.index(L[i])<L.index(L[j]):\n",
        "        t=[]\n",
        "        for m in L[i]:\n",
        "          t.append(m)\n",
        "        for m in L[j][-1:]:\n",
        "          t.append(m)\n",
        "          temp.append(t)\n",
        "      new_L.append(temp)\n",
        "      temp=[]\n",
        "          \n",
        "  new_L=[x for x in new_L if x]\n",
        "  return new_L"
      ],
      "metadata": {
        "id": "w2N2wXJ2kl9e"
      },
      "execution_count": null,
      "outputs": []
    },
    {
      "cell_type": "code",
      "source": [
        "def check_prev_L(L_sets,prev_L):\n",
        "  new_L_sets=[]\n",
        "  for j in range(len(L_sets)):\n",
        "    subsets=np.array(list(itertools.combinations(L_sets[j],len(L_sets[j])-1)))\n",
        "    new_L=[]\n",
        "    for i in subsets:\n",
        "      if list(i) in prev_L:\n",
        "        new_L.append(list(i))\n",
        "    if np.array_equal(np.array(new_L),subsets):\n",
        "      new_L_sets.append(L_sets[j])\n",
        "  return new_L_sets"
      ],
      "metadata": {
        "id": "ZZc2KDtrzi-1"
      },
      "execution_count": null,
      "outputs": []
    },
    {
      "cell_type": "code",
      "source": [
        "def create_temp_data(L,count,prev_L):\n",
        "  flag=True\n",
        "  C_sets=[]\n",
        "  C_freq=[]\n",
        "  for i in L:\n",
        "    for j in i:\n",
        "      C_sets.append(j)\n",
        "      temp=[]\n",
        "      for k in j:\n",
        "        if temp==[]:\n",
        "          temp=list(temp_data[int(k)])\n",
        "        else:\n",
        "          for i in range(len(temp)):\n",
        "            if temp[i]==temp_data[int(k)][i]==1:\n",
        "              flag=False\n",
        "              temp[i]=1\n",
        "            else:\n",
        "              temp[i]=0\n",
        "          C_freq.append(temp)\n",
        "\n",
        "  if C_sets:\n",
        "    print(\"C\",count,\":\")\n",
        "    L_sets=[]\n",
        "    L_freq=[]\n",
        "    for i in range(len(C_sets)):\n",
        "      unique, frequency = np.unique(C_freq[i], return_counts = True)\n",
        "      if 1 in unique:\n",
        "        print(C_sets[i],\"-\",frequency[1])\n",
        "      else:\n",
        "        print(C_sets[i],\"-\",0)\n",
        "        frequency=np.array([frequency[0],0])\n",
        "      if frequency[1] >= min_support:\n",
        "        L_freq.append(frequency[1])\n",
        "        L_sets.append(C_sets[i])\n",
        "    print()\n",
        "    if L_sets :\n",
        "      L_sets=check_prev_L(L_sets,prev_L)\n",
        "      print(\"L\",count,\":\")\n",
        "      for i in range(len(L_sets)):\n",
        "        print(L_sets[i],\"-\",L_freq[i])\n",
        "      \n",
        "      print()\n",
        "      print()\n",
        "    else:\n",
        "      count=-5\n",
        "    prev_L=L_sets\n",
        "  return L_sets"
      ],
      "metadata": {
        "id": "wpUjQyf6-A9t"
      },
      "execution_count": null,
      "outputs": []
    },
    {
      "cell_type": "code",
      "source": [
        "temp_data=data.T\n",
        "min_support_per=20\n",
        "min_support=math.ceil(min_support_per*len(temp_data[0])/100)\n",
        "print(\"Minimum Support Count:\",min_support)\n",
        "C=[\"0\",\"1\",\"2\",\"3\",\"4\"]\n",
        "L=[]\n",
        "print(\"C1:\")\n",
        "for i in range(len(temp_data)):\n",
        "  unique, frequency = np.unique(temp_data[i], return_counts = True)\n",
        "  print(i,\"-\",frequency[1])\n",
        "  if frequency[1]>=min_support:\n",
        "    L.append([str(i)])\n",
        "print()\n",
        "print(\"L1:\")\n",
        "for i in range(len(temp_data)):\n",
        "  unique, frequency = np.unique(temp_data[i], return_counts = True)\n",
        "  if frequency[1]>=min_support:\n",
        "    print(i,\"-\",frequency[1])\n",
        "print()\n",
        "prev_L=L\n",
        "counter=2\n",
        "L=create_sets(L)\n",
        "L=create_temp_data(L,counter,prev_L)\n",
        "prev_L=L\n",
        "counter=counter+1\n",
        "while (L):\n",
        "\n",
        "  L=create_sets1(L)\n",
        "  L=create_temp_data(L,counter,prev_L)\n",
        "  prev_L=L\n",
        "  counter=counter+1\n",
        "  if L:\n",
        "    break\n",
        "  if counter<0:\n",
        "    break\n",
        "\n"
      ],
      "metadata": {
        "colab": {
          "base_uri": "https://localhost:8080/"
        },
        "id": "-gKljG_IK8Mq",
        "outputId": "de3517e3-dad5-4e61-ecd6-e0ee2c9c1aa1"
      },
      "execution_count": null,
      "outputs": [
        {
          "output_type": "stream",
          "name": "stdout",
          "text": [
            "Minimum Support Count: 2\n",
            "C1:\n",
            "0 - 6\n",
            "1 - 7\n",
            "2 - 6\n",
            "3 - 2\n",
            "4 - 2\n",
            "\n",
            "L1:\n",
            "0 - 6\n",
            "1 - 7\n",
            "2 - 6\n",
            "3 - 2\n",
            "4 - 2\n",
            "\n",
            "C 2 :\n",
            "['0', '1'] - 4\n",
            "['0', '2'] - 4\n",
            "['0', '3'] - 1\n",
            "['0', '4'] - 2\n",
            "['1', '2'] - 4\n",
            "['1', '3'] - 2\n",
            "['1', '4'] - 2\n",
            "['2', '3'] - 0\n",
            "['2', '4'] - 1\n",
            "['3', '4'] - 0\n",
            "\n",
            "L 2 :\n",
            "['0', '1'] - 4\n",
            "['0', '2'] - 4\n",
            "['0', '4'] - 2\n",
            "['1', '2'] - 4\n",
            "['1', '3'] - 2\n",
            "['1', '4'] - 2\n",
            "\n",
            "\n",
            "C 3 :\n",
            "['0', '1', '2'] - 2\n",
            "['0', '1', '4'] - 2\n",
            "['0', '2', '4'] - 2\n",
            "['1', '2', '3'] - 2\n",
            "['1', '2', '4'] - 1\n",
            "['1', '3', '4'] - 1\n",
            "\n",
            "L 3 :\n",
            "['0', '1', '2'] - 2\n",
            "['0', '1', '4'] - 2\n",
            "\n",
            "\n"
          ]
        }
      ]
    }
  ]
}